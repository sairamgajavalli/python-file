{
 "cells": [
  {
   "cell_type": "code",
   "execution_count": 2,
   "metadata": {},
   "outputs": [
    {
     "name": "stdout",
     "output_type": "stream",
     "text": [
      "first number4\n",
      "second number5\n",
      "9.0\n",
      "-1.0\n",
      "20.0\n",
      "0.8\n"
     ]
    }
   ],
   "source": [
    "#Python program to do arithmetical operations\n",
    "num1=input(\"first number\")\n",
    "num2=input(\"second number\")\n",
    "sum=float(num1)+float(num2)\n",
    "min=float(num1)-float(num2)\n",
    "mul=float(num1)*float(num2)\n",
    "div=float(num1)/float(num2)\n",
    "print(sum)\n",
    "print(min)\n",
    "print(mul)\n",
    "print(div)"
   ]
  },
  {
   "cell_type": "code",
   "execution_count": 3,
   "metadata": {},
   "outputs": [
    {
     "name": "stdout",
     "output_type": "stream",
     "text": [
      "enter side13\n",
      "enter side24\n",
      "enter side35\n",
      "6.0\n"
     ]
    }
   ],
   "source": [
    "#Python program to find the area of a triangle\n",
    "a=float(input('enter side1'))\n",
    "b=float(input('enter side2'))\n",
    "c=float(input('enter side3'))\n",
    "\n",
    "s=(a+b+c)/2\n",
    "\n",
    "area=(s*(s-a)*(s-b)*(s-c))**0.5\n",
    "print(area)\n",
    "#print('The area of the triangle is %0.2f'%area)"
   ]
  },
  {
   "cell_type": "code",
   "execution_count": 4,
   "metadata": {},
   "outputs": [
    {
     "name": "stdout",
     "output_type": "stream",
     "text": [
      "enter a3\n",
      "enter b4\n",
      "enter c5\n",
      "The solution are (-0.6666666666666666-1.1055415967851332j) and (-0.6666666666666666+1.1055415967851332j)\n"
     ]
    }
   ],
   "source": [
    "#Python program to solve quadratic equation\n",
    "import cmath\n",
    "\n",
    "a=float(input(\"enter a\"))\n",
    "b=float(input(\"enter b\"))\n",
    "c=float(input(\"enter c\"))\n",
    "\n",
    "d=b**2-4*a*c\n",
    "\n",
    "sol1=(-b-cmath.sqrt(d))/(2*a)\n",
    "sol2=(-b+cmath.sqrt(d))/(2*a)\n",
    "print('The solution are {0} and {1}'.format(sol1,sol2))\n",
    "#sol1 = (-b-cmath.sqrt(d))/(2*a) "
   ]
  },
  {
   "cell_type": "code",
   "execution_count": 5,
   "metadata": {},
   "outputs": [
    {
     "name": "stdout",
     "output_type": "stream",
     "text": [
      "enter value x:2\n",
      "enter value y:3\n",
      "the value of x after swapping:3\n",
      "the value of y after swapping:2\n"
     ]
    }
   ],
   "source": [
    "#swapping of two variables\n",
    "x=input('enter value x:')\n",
    "y=input('enter value y:')\n",
    "\n",
    "temp=x\n",
    "x=y\n",
    "y=temp\n",
    "\n",
    "print(\"the value of x after swapping:{}\".format(x))\n",
    "print(\"the value of y after swapping:{}\".format(y))"
   ]
  },
  {
   "cell_type": "code",
   "execution_count": 6,
   "metadata": {},
   "outputs": [
    {
     "data": {
      "text/plain": [
       "204"
      ]
     },
     "execution_count": 6,
     "metadata": {},
     "output_type": "execute_result"
    }
   ],
   "source": [
    "#generate random numbers \n",
    "import random\n",
    "random.randint(100,500)"
   ]
  },
  {
   "cell_type": "code",
   "execution_count": 7,
   "metadata": {},
   "outputs": [
    {
     "name": "stdout",
     "output_type": "stream",
     "text": [
      "enter no of kilometeres:4\n",
      "2.489484 miles\n"
     ]
    }
   ],
   "source": [
    "#convert kilometres to miles\n",
    "kilometer=float(input(\"enter no of kilometeres:\"))\n",
    "miles = 0.622371*kilometer\n",
    "print(miles,'miles')"
   ]
  },
  {
   "cell_type": "code",
   "execution_count": 8,
   "metadata": {},
   "outputs": [
    {
     "name": "stdout",
     "output_type": "stream",
     "text": [
      "enter temperature:44\n",
      "111.2 degrees\n"
     ]
    }
   ],
   "source": [
    "#celsius to fahrenheit\n",
    "celsius=float(input(\"enter temperature:\"))\n",
    "fahreinheit=(celsius*1.8)+32\n",
    "print(fahreinheit,\"degrees\")"
   ]
  },
  {
   "cell_type": "code",
   "execution_count": 9,
   "metadata": {},
   "outputs": [
    {
     "name": "stdout",
     "output_type": "stream",
     "text": [
      "enter year:1966\n",
      "enter month:5\n",
      "enter day:4\n",
      "             May 1966\n",
      "Mon  Tue  Wed  Thu  Fri  Sat  Sun\n",
      "                                1\n",
      "  2    3    4    5    6    7    8\n",
      "  9   10   11   12   13   14   15\n",
      " 16   17   18   19   20   21   22\n",
      " 23   24   25   26   27   28   29\n",
      " 30   31\n",
      "\n"
     ]
    }
   ],
   "source": [
    "#display the calender\n",
    "import calendar\n",
    "\n",
    "yy=int(input(\"enter year:\"))\n",
    "mm=int(input(\"enter month:\"))\n",
    "dd=int(input(\"enter day:\"))\n",
    "\n",
    "print(calendar.month(yy,mm,dd))\n"
   ]
  },
  {
   "cell_type": "code",
   "execution_count": 10,
   "metadata": {},
   "outputs": [
    {
     "name": "stdout",
     "output_type": "stream",
     "text": [
      "enter a number3\n",
      "positive num\n"
     ]
    }
   ],
   "source": [
    "#to check the number is positive or negative\n",
    "num=float(input('enter a number'))\n",
    "if num>0:\n",
    "    print('positive num')\n",
    "elif num==0:\n",
    "    print ('zero')\n",
    "else:\n",
    "    print('negative num')"
   ]
  },
  {
   "cell_type": "code",
   "execution_count": 11,
   "metadata": {},
   "outputs": [
    {
     "name": "stdout",
     "output_type": "stream",
     "text": [
      "ennter a number3\n",
      "odd\n"
     ]
    }
   ],
   "source": [
    "#to check the number is odd or even\n",
    "num=int(input(\"ennter a number\"))\n",
    "if ((num%2))==0:\n",
    "    print('even')\n",
    "else:\n",
    "    print('odd')"
   ]
  },
  {
   "cell_type": "code",
   "execution_count": 12,
   "metadata": {},
   "outputs": [
    {
     "name": "stdout",
     "output_type": "stream",
     "text": [
      "enter a year2018\n",
      "not leap year\n"
     ]
    }
   ],
   "source": [
    "#check leap year\n",
    "year=int(input('enter a year'))\n",
    "if((year%4))==0:\n",
    "    if((year%100))==0:\n",
    "        if((year%400))==0:\n",
    "            print('leap year')\n",
    "        else:\n",
    "            print('not leap year')\n",
    "    else:\n",
    "        print('leap year')\n",
    "else:\n",
    "    print('not leap year')"
   ]
  },
  {
   "cell_type": "code",
   "execution_count": 1,
   "metadata": {},
   "outputs": [
    {
     "name": "stdout",
     "output_type": "stream",
     "text": [
      "enter number5\n",
      "prime\n"
     ]
    }
   ],
   "source": [
    "#check prime or not\n",
    "num=int(input(\"enter number\"))\n",
    "\n",
    "if num>1:\n",
    "    for i in range(2,num):\n",
    "        if (num%i)==0:\n",
    "            print('not prime')\n",
    "            break\n",
    "    else:\n",
    "        print('prime')\n",
    "else:\n",
    "    print('not prime')"
   ]
  },
  {
   "cell_type": "code",
   "execution_count": 1,
   "metadata": {
    "scrolled": true
   },
   "outputs": [
    {
     "name": "stdout",
     "output_type": "stream",
     "text": [
      "enter lower range:12\n",
      "enter upper range:457\n",
      "13\n",
      "17\n",
      "19\n",
      "23\n",
      "29\n",
      "31\n",
      "37\n",
      "41\n",
      "43\n",
      "47\n",
      "53\n",
      "59\n",
      "61\n",
      "67\n",
      "71\n",
      "73\n",
      "79\n",
      "83\n",
      "89\n",
      "97\n",
      "101\n",
      "103\n",
      "107\n",
      "109\n",
      "113\n",
      "127\n",
      "131\n",
      "137\n",
      "139\n",
      "149\n",
      "151\n",
      "157\n",
      "163\n",
      "167\n",
      "173\n",
      "179\n",
      "181\n",
      "191\n",
      "193\n",
      "197\n",
      "199\n",
      "211\n",
      "223\n",
      "227\n",
      "229\n",
      "233\n",
      "239\n",
      "241\n",
      "251\n",
      "257\n",
      "263\n",
      "269\n",
      "271\n",
      "277\n",
      "281\n",
      "283\n",
      "293\n",
      "307\n",
      "311\n",
      "313\n",
      "317\n",
      "331\n",
      "337\n",
      "347\n",
      "349\n",
      "353\n",
      "359\n",
      "367\n",
      "373\n",
      "379\n",
      "383\n",
      "389\n",
      "397\n",
      "401\n",
      "409\n",
      "419\n",
      "421\n",
      "431\n",
      "433\n",
      "439\n",
      "443\n",
      "449\n",
      "457\n"
     ]
    }
   ],
   "source": [
    "#prime numbers in an interval\n",
    "lower=int(input(\"enter lower range:\"))\n",
    "upper=int(input(\"enter upper range:\"))\n",
    "\n",
    "for num in range(lower,upper+1):\n",
    "    if num>1:\n",
    "        for i in range (2,num):\n",
    "            if(num%i)==0:\n",
    "                break\n",
    "        else:\n",
    "            print(num)"
   ]
  },
  {
   "cell_type": "code",
   "execution_count": 3,
   "metadata": {},
   "outputs": [
    {
     "name": "stdout",
     "output_type": "stream",
     "text": [
      "enter a number:6\n",
      "720\n"
     ]
    }
   ],
   "source": [
    "#factorial num\n",
    "def factorial(n):\n",
    "    return 1 if (n==1 or n==0) else n*factorial(n-1)\n",
    "\n",
    "num=int(input(\"enter a number:\"))\n",
    "print( factorial(num))  "
   ]
  },
  {
   "cell_type": "code",
   "execution_count": 3,
   "metadata": {},
   "outputs": [
    {
     "name": "stdout",
     "output_type": "stream",
     "text": [
      "multiplication table of :5\n",
      "num*i= 5\n",
      "num*i= 10\n",
      "num*i= 15\n",
      "num*i= 20\n",
      "num*i= 25\n",
      "num*i= 30\n",
      "num*i= 35\n",
      "num*i= 40\n",
      "num*i= 45\n",
      "num*i= 50\n"
     ]
    }
   ],
   "source": [
    "#multiplication table\n",
    "num=int(input(\"multiplication table of :\"))\n",
    "\n",
    "for i in range(1,11):\n",
    "    print(\"num*i\"'=',num*i)"
   ]
  },
  {
   "cell_type": "code",
   "execution_count": 3,
   "metadata": {},
   "outputs": [
    {
     "name": "stdout",
     "output_type": "stream",
     "text": [
      "enter number:5\n",
      "[0, 1, 1, 2, 3]\n"
     ]
    }
   ],
   "source": [
    "x=int(input('enter number:'))\n",
    "def fibonacci(n):\n",
    "    a,b=0,1\n",
    "    for i in range(n):\n",
    "        yield a\n",
    "        a,b=b,a+b\n",
    "        \n",
    "print(list(fibonacci(x)))\n"
   ]
  },
  {
   "cell_type": "code",
   "execution_count": 14,
   "metadata": {},
   "outputs": [
    {
     "name": "stdout",
     "output_type": "stream",
     "text": [
      "enter number:5\n",
      "0\n",
      "1\n",
      "1\n",
      "2\n",
      "3\n",
      "5\n"
     ]
    }
   ],
   "source": [
    "x=int(input('enter number:'))\n",
    "#def fibonacci(n):\n",
    "a,b=0,1\n",
    "for i in range(x):\n",
    "    print(a)\n",
    "    a,b=b,a+b\n",
    "print(x)       \n",
    "#print(list(fibonacci(x)))\n"
   ]
  },
  {
   "cell_type": "code",
   "execution_count": 21,
   "metadata": {},
   "outputs": [
    {
     "name": "stdout",
     "output_type": "stream",
     "text": [
      "[0, 1, 2, 3, 4, 5, 6, 7, 8, 9, 10]\n",
      "[0]\n",
      "[0, 1]\n",
      "[0, 1, 1]\n"
     ]
    },
    {
     "ename": "TypeError",
     "evalue": "unsupported operand type(s) for *: 'int' and 'NoneType'",
     "output_type": "error",
     "traceback": [
      "\u001b[1;31m---------------------------------------------------------------------------\u001b[0m",
      "\u001b[1;31mTypeError\u001b[0m                                 Traceback (most recent call last)",
      "\u001b[1;32m<ipython-input-21-dca53682b10e>\u001b[0m in \u001b[0;36m<module>\u001b[1;34m\u001b[0m\n\u001b[0;32m     16\u001b[0m \u001b[1;33m\u001b[0m\u001b[0m\n\u001b[0;32m     17\u001b[0m \u001b[1;32mfor\u001b[0m \u001b[0mi\u001b[0m \u001b[1;32min\u001b[0m \u001b[0mrange\u001b[0m\u001b[1;33m(\u001b[0m\u001b[1;36m11\u001b[0m\u001b[1;33m)\u001b[0m\u001b[1;33m:\u001b[0m\u001b[1;33m\u001b[0m\u001b[1;33m\u001b[0m\u001b[0m\n\u001b[1;32m---> 18\u001b[1;33m     \u001b[0mfnc\u001b[0m\u001b[1;33m(\u001b[0m\u001b[0mi\u001b[0m\u001b[1;33m)\u001b[0m\u001b[1;33m\u001b[0m\u001b[1;33m\u001b[0m\u001b[0m\n\u001b[0m\u001b[0;32m     19\u001b[0m \u001b[1;33m\u001b[0m\u001b[0m\n\u001b[0;32m     20\u001b[0m \u001b[1;33m\u001b[0m\u001b[0m\n",
      "\u001b[1;32m<ipython-input-21-dca53682b10e>\u001b[0m in \u001b[0;36mfnc\u001b[1;34m(n)\u001b[0m\n\u001b[0;32m     10\u001b[0m         \u001b[0ml\u001b[0m\u001b[1;33m.\u001b[0m\u001b[0mappend\u001b[0m\u001b[1;33m(\u001b[0m\u001b[1;36m1\u001b[0m\u001b[1;33m)\u001b[0m\u001b[1;33m\u001b[0m\u001b[1;33m\u001b[0m\u001b[0m\n\u001b[0;32m     11\u001b[0m     \u001b[1;32mwhile\u001b[0m \u001b[0mn\u001b[0m\u001b[1;33m>\u001b[0m\u001b[1;36m1\u001b[0m\u001b[1;33m:\u001b[0m\u001b[1;33m\u001b[0m\u001b[1;33m\u001b[0m\u001b[0m\n\u001b[1;32m---> 12\u001b[1;33m         \u001b[0mf\u001b[0m\u001b[1;33m=\u001b[0m\u001b[1;33m(\u001b[0m\u001b[1;36m2\u001b[0m\u001b[1;33m*\u001b[0m\u001b[0mfnc\u001b[0m\u001b[1;33m(\u001b[0m\u001b[0mn\u001b[0m\u001b[1;33m-\u001b[0m\u001b[1;36m1\u001b[0m\u001b[1;33m)\u001b[0m\u001b[1;33m)\u001b[0m\u001b[1;33m-\u001b[0m\u001b[1;33m(\u001b[0m\u001b[1;36m2\u001b[0m\u001b[1;33m*\u001b[0m\u001b[0mfnc\u001b[0m\u001b[1;33m(\u001b[0m\u001b[0mn\u001b[0m\u001b[1;33m-\u001b[0m\u001b[1;36m2\u001b[0m\u001b[1;33m)\u001b[0m\u001b[1;33m)\u001b[0m\u001b[1;33m\u001b[0m\u001b[1;33m\u001b[0m\u001b[0m\n\u001b[0m\u001b[0;32m     13\u001b[0m         \u001b[0mn\u001b[0m\u001b[1;33m+=\u001b[0m\u001b[1;36m1\u001b[0m\u001b[1;33m\u001b[0m\u001b[1;33m\u001b[0m\u001b[0m\n\u001b[0;32m     14\u001b[0m         \u001b[0ml\u001b[0m\u001b[1;33m.\u001b[0m\u001b[0mappend\u001b[0m\u001b[1;33m(\u001b[0m\u001b[0mf\u001b[0m\u001b[1;33m)\u001b[0m\u001b[1;33m\u001b[0m\u001b[1;33m\u001b[0m\u001b[0m\n",
      "\u001b[1;31mTypeError\u001b[0m: unsupported operand type(s) for *: 'int' and 'NoneType'"
     ]
    }
   ],
   "source": [
    "list=[]\n",
    "for i in range(11):\n",
    "    list.append(i)\n",
    "print(list)\n",
    "l=[]\n",
    "def fnc(n):\n",
    "    if n==0:\n",
    "        l.append(0)\n",
    "    elif n==1:\n",
    "        l.append(1)\n",
    "    while n>1:\n",
    "        f=(2*fnc(n-1))-(2*fnc(n-2))\n",
    "        n+=1\n",
    "        l.append(f)\n",
    "    print(l)\n",
    "    \n",
    "for i in range(11):\n",
    "    fnc(i)\n",
    "    \n",
    "    "
   ]
  },
  {
   "cell_type": "code",
   "execution_count": 5,
   "metadata": {},
   "outputs": [
    {
     "name": "stdout",
     "output_type": "stream",
     "text": [
      "enter a number of terms5\n",
      "fibonacci sequence\n",
      "0 1\n",
      "1 2 3 "
     ]
    }
   ],
   "source": [
    "#fibonacci sequence\n",
    "num=int(input(\"enter a number of terms\"))\n",
    "\n",
    "n1=0\n",
    "n2=1\n",
    "count=2\n",
    "\n",
    "if num<=0:\n",
    "    print(\"enter positive number\")\n",
    "elif num==1:\n",
    "    print(\"fibonacci sequence\")\n",
    "    print(n1)\n",
    "else:\n",
    "    print(\"fibonacci sequence\")\n",
    "    print(n1,n2)\n",
    "    while count<num:\n",
    "        nth=n1+n2\n",
    "        print(nth,end=' ')\n",
    "        \n",
    "        n1=n2\n",
    "        n2=nth\n",
    "        count+=1\n",
    "    "
   ]
  },
  {
   "cell_type": "code",
   "execution_count": 9,
   "metadata": {},
   "outputs": [
    {
     "name": "stdout",
     "output_type": "stream",
     "text": [
      "enter number548834\n",
      "armstrong\n"
     ]
    }
   ],
   "source": [
    "#armstrong\n",
    "num=int(input(\"enter number\"))\n",
    "sum=0\n",
    "temp=num\n",
    "order=len(str(num))\n",
    "while temp>0:\n",
    "    digit=temp%10\n",
    "    sum+=digit**order\n",
    "    temp//=10\n",
    "\n",
    "if num==sum:\n",
    "    print(\"armstrong\")\n",
    "else:\n",
    "    print(\"not armstrong\")"
   ]
  },
  {
   "cell_type": "code",
   "execution_count": 6,
   "metadata": {},
   "outputs": [
    {
     "name": "stdout",
     "output_type": "stream",
     "text": [
      "enter a number6\n",
      "enter a number8\n",
      "153\n"
     ]
    }
   ],
   "source": [
    "#prime nummber interval\n",
    "lower=int(input(\"enter a number\"))\n",
    "upper=int(input(\"enter a number\"))\n",
    "\n",
    "for i in range(lower,upper+1):\n",
    "    sum=0\n",
    "    temp=num\n",
    "    order=len(str(num))\n",
    "    while temp>0:\n",
    "        digit=temp%10\n",
    "        sum+=digit**order\n",
    "        temp//=10\n",
    "\n",
    "if num==sum:\n",
    "    print(num)\n",
    " "
   ]
  },
  {
   "cell_type": "code",
   "execution_count": 28,
   "metadata": {},
   "outputs": [
    {
     "name": "stdout",
     "output_type": "stream",
     "text": [
      "enter a number18\n",
      "171\n"
     ]
    }
   ],
   "source": [
    "#sum  of natural numbers\n",
    "num=int(input(\"enter a number\"))\n",
    "if num<0:\n",
    "    print(\"enter positive number\")\n",
    "else:\n",
    "    sum=0\n",
    "    while(num>0):\n",
    "        sum+=num\n",
    "        num-=1\n",
    "    print(sum)\n"
   ]
  },
  {
   "cell_type": "code",
   "execution_count": 27,
   "metadata": {},
   "outputs": [
    {
     "name": "stdout",
     "output_type": "stream",
     "text": [
      "171\n"
     ]
    }
   ],
   "source": [
    "#natural numbers\n",
    "sum=0\n",
    "for i in range(1,19):\n",
    "    sum=i+sum\n",
    "print(sum)"
   ]
  },
  {
   "cell_type": "markdown",
   "metadata": {},
   "source": [
    "# python function programms"
   ]
  },
  {
   "cell_type": "code",
   "execution_count": 30,
   "metadata": {},
   "outputs": [
    {
     "name": "stdout",
     "output_type": "stream",
     "text": [
      "enter first number4\n",
      "enter second number6\n",
      "12\n"
     ]
    }
   ],
   "source": [
    "#lcm of numbers\n",
    "def lcm(x,y):\n",
    "    if x>y:\n",
    "        greater=x\n",
    "    else:\n",
    "        greater=y\n",
    "    while(True):\n",
    "        if((greater%x==0)and(greater%y==0)):\n",
    "            lcm=greater\n",
    "            break\n",
    "        greater+=1\n",
    "    return lcm\n",
    "\n",
    "num1=int(input(\"enter first number\"))\n",
    "num2=int(input(\"enter second number\"))\n",
    "\n",
    "print(lcm(num1,num2))\n"
   ]
  },
  {
   "cell_type": "code",
   "execution_count": null,
   "metadata": {},
   "outputs": [
    {
     "name": "stdout",
     "output_type": "stream",
     "text": [
      "Pick a number between 1 to 500\n",
      "Guess the number: secret_number\n",
      "You lose\n",
      "Guess the number:  3\n",
      "You lose\n"
     ]
    }
   ],
   "source": [
    "import random \n",
    "secret_number = random.randint(1,500) \n",
    "print (\"Pick a number between 1 to 500\")\n",
    "while True:\n",
    "    res = input(\"Guess the number: \") \n",
    "    if res==secret_number: \n",
    "        print (\"You win\")\n",
    "        break\n",
    "    else: \n",
    "        print (\"You lose\")\n",
    "        continue"
   ]
  },
  {
   "cell_type": "code",
   "execution_count": null,
   "metadata": {},
   "outputs": [
    {
     "name": "stdout",
     "output_type": "stream",
     "text": [
      "Winning Rules of the Rock paper scissor game as follows: \n",
      "Rock vs paper->paper wins \n",
      "Rock vs scissor->Rock wins \n",
      "paper vs scissor->scissor wins \n",
      "\n",
      "Enter choice \n",
      " 1. Rock \n",
      " 2. paper \n",
      " 3. scissor \n",
      "\n",
      "User turn: 3\n",
      "user choice is: scissor\n",
      "\n",
      "Now its computer turn.......\n",
      "Computer choice is: Rock\n",
      "scissor V/s Rock\n",
      "Rock wins =><== Computer wins ==>\n",
      "Do you want to play again? (Y/N)\n",
      "y\n",
      "Enter choice \n",
      " 1. Rock \n",
      " 2. paper \n",
      " 3. scissor \n",
      "\n",
      "User turn: 1\n",
      "user choice is: Rock\n",
      "\n",
      "Now its computer turn.......\n",
      "Computer choice is: scissor\n",
      "Rock V/s scissor\n",
      "Rock wins =><== User wins ==>\n",
      "Do you want to play again? (Y/N)\n"
     ]
    }
   ],
   "source": [
    "# import random module \n",
    "import random \n",
    "  \n",
    "# Print multiline instruction \n",
    "# performstring concatenation of string \n",
    "print(\"Winning Rules of the Rock paper scissor game as follows: \\n\"\n",
    "                                +\"Rock vs paper->paper wins \\n\"\n",
    "                                + \"Rock vs scissor->Rock wins \\n\"\n",
    "                                +\"paper vs scissor->scissor wins \\n\") \n",
    "  \n",
    "while True: \n",
    "    print(\"Enter choice \\n 1. Rock \\n 2. paper \\n 3. scissor \\n\") \n",
    "      \n",
    "    # take the input from user \n",
    "    choice = int(input(\"User turn: \")) \n",
    "  \n",
    "    # OR is the short-circuit operator \n",
    "    # if any one of the condition is true \n",
    "    # then it return True value \n",
    "      \n",
    "    # looping until user enter invalid input \n",
    "    while choice > 3 or choice < 1: \n",
    "        choice = int(input(\"enter valid input: \")) \n",
    "          \n",
    "  \n",
    "    # initialize value of choice_name variable \n",
    "    # corresponding to the choice value \n",
    "    if choice == 1: \n",
    "        choice_name = 'Rock'\n",
    "    elif choice == 2: \n",
    "        choice_name = 'paper'\n",
    "    else: \n",
    "        choice_name = 'scissor'\n",
    "          \n",
    "    # print user choice  \n",
    "    print(\"user choice is: \" + choice_name) \n",
    "    print(\"\\nNow its computer turn.......\") \n",
    "  \n",
    "    # Computer chooses randomly any number  \n",
    "    # among 1 , 2 and 3. Using randint method \n",
    "    # of random module \n",
    "    comp_choice = random.randint(1, 3) \n",
    "      \n",
    "    # looping until comp_choice value  \n",
    "    # is equal to the choice value \n",
    "    while comp_choice == choice: \n",
    "        comp_choice = random.randint(1, 3) \n",
    "  \n",
    "    # initialize value of comp_choice_name  \n",
    "    # variable corresponding to the choice value \n",
    "    if comp_choice == 1: \n",
    "        comp_choice_name = 'Rock'\n",
    "    elif comp_choice == 2: \n",
    "        comp_choice_name = 'paper'\n",
    "    else: \n",
    "        comp_choice_name = 'scissor'\n",
    "          \n",
    "    print(\"Computer choice is: \" + comp_choice_name) \n",
    "  \n",
    "    print(choice_name + \" V/s \" + comp_choice_name) \n",
    "  \n",
    "    # condition for winning \n",
    "    if((choice == 1 and comp_choice == 2) or\n",
    "      (choice == 2 and comp_choice ==1 )): \n",
    "        print(\"paper wins => \", end = \"\") \n",
    "        result = \"paper\"\n",
    "          \n",
    "    elif((choice == 1 and comp_choice == 3) or\n",
    "        (choice == 3 and comp_choice == 1)): \n",
    "        print(\"Rock wins =>\", end = \"\") \n",
    "        result = \"Rock\"\n",
    "    else: \n",
    "        print(\"scissor wins =>\", end = \"\") \n",
    "        result = \"scissor\"\n",
    "  \n",
    "    # Printing either user or computer wins \n",
    "    if result == choice_name: \n",
    "        print(\"<== User wins ==>\") \n",
    "    else: \n",
    "        print(\"<== Computer wins ==>\") \n",
    "          \n",
    "    print(\"Do you want to play again? (Y/N)\") \n",
    "    ans = input() \n",
    "  \n",
    "  \n",
    "    # if user input n or N then condition is True \n",
    "    if ans == 'n' or ans == 'N': \n",
    "        break\n",
    "      \n",
    "# after coming out of the while loop \n",
    "# we print thanks for playing \n",
    "print(\"\\nThanks for playing\") "
   ]
  },
  {
   "cell_type": "code",
   "execution_count": 1,
   "metadata": {},
   "outputs": [
    {
     "name": "stdout",
     "output_type": "stream",
     "text": [
      "heat\n"
     ]
    },
    {
     "ename": "NameError",
     "evalue": "name 'random' is not defined",
     "output_type": "error",
     "traceback": [
      "\u001b[1;31m---------------------------------------------------------------------------\u001b[0m",
      "\u001b[1;31mNameError\u001b[0m                                 Traceback (most recent call last)",
      "\u001b[1;32m<ipython-input-1-bedc0e646ec8>\u001b[0m in \u001b[0;36m<module>\u001b[1;34m\u001b[0m\n\u001b[0;32m      1\u001b[0m \u001b[0mn\u001b[0m\u001b[1;33m=\u001b[0m\u001b[0minput\u001b[0m\u001b[1;33m(\u001b[0m\u001b[1;33m)\u001b[0m\u001b[1;33m\u001b[0m\u001b[1;33m\u001b[0m\u001b[0m\n\u001b[1;32m----> 2\u001b[1;33m \u001b[0mrandom\u001b[0m\u001b[1;33m.\u001b[0m\u001b[0mrandstr\u001b[0m\u001b[1;33m(\u001b[0m\u001b[1;34m\"earth\"\u001b[0m\u001b[1;33m)\u001b[0m\u001b[1;33m\u001b[0m\u001b[1;33m\u001b[0m\u001b[0m\n\u001b[0m",
      "\u001b[1;31mNameError\u001b[0m: name 'random' is not defined"
     ]
    }
   ],
   "source": []
  },
  {
   "cell_type": "code",
   "execution_count": 2,
   "metadata": {},
   "outputs": [],
   "source": [
    "import random"
   ]
  },
  {
   "cell_type": "code",
   "execution_count": 3,
   "metadata": {},
   "outputs": [
    {
     "name": "stdout",
     "output_type": "stream",
     "text": [
      "[90, 17, 60, 56, 52, 42, 39, 39, 88, 78, 35, 78, 12, 77, 71, 40, 36, 95, 29, 64, 27, 8, 87, 97, 96, 96, 76, 70, 74, 13, 69, 13, 11, 74, 67, 72, 92, 24, 51, 33, 71, 69, 88, 8, 65, 10, 47, 72, 58, 82, 82, 60, 79, 75, 5, 77, 12, 67, 42, 75, 83, 86, 97, 68, 51, 18, 53, 19, 87, 44, 59, 99, 37, 40, 94, 2, 85, 38, 9, 61, 78, 49, 43, 100, 20, 47, 21, 45, 27, 70, 54, 92, 24, 36, 40, 57, 65, 72, 42, 93]\n",
      "{8, 12, 13, 24, 27, 36, 39, 40, 42, 47, 51, 60, 65, 67, 69, 70, 71, 72, 74, 75, 77, 78, 82, 87, 88, 92, 96, 97}"
     ]
    }
   ],
   "source": [
    "list=[]\n",
    "for i in range(1,101):\n",
    "    x=random.randint(1,101)\n",
    "    list.append(x)\n",
    "print(list)\n",
    "a=set(x for x in list if list.count(x)>1)\n",
    "print(a,end='')"
   ]
  },
  {
   "cell_type": "code",
   "execution_count": 1,
   "metadata": {},
   "outputs": [],
   "source": [
    "bin=[1,1,0,0]"
   ]
  },
  {
   "cell_type": "code",
   "execution_count": 9,
   "metadata": {},
   "outputs": [
    {
     "name": "stdout",
     "output_type": "stream",
     "text": [
      "number:4\n",
      "2 poer of  0 1\n",
      "2 poer of  1 2\n",
      "2 poer of  2 4\n",
      "2 poer of  3 8\n"
     ]
    }
   ],
   "source": [
    "n=int(input(\"number:\"))\n",
    "for i in range(n):\n",
    "    x=2**i\n",
    "    print(\"2 poer of \",i,x)"
   ]
  },
  {
   "cell_type": "code",
   "execution_count": null,
   "metadata": {},
   "outputs": [],
   "source": []
  }
 ],
 "metadata": {
  "kernelspec": {
   "display_name": "Python 3",
   "language": "python",
   "name": "python3"
  },
  "language_info": {
   "codemirror_mode": {
    "name": "ipython",
    "version": 3
   },
   "file_extension": ".py",
   "mimetype": "text/x-python",
   "name": "python",
   "nbconvert_exporter": "python",
   "pygments_lexer": "ipython3",
   "version": "3.7.4"
  }
 },
 "nbformat": 4,
 "nbformat_minor": 2
}
